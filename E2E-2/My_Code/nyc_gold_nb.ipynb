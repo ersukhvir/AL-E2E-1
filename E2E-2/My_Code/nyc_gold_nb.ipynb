{
 "cells": [
  {
   "cell_type": "code",
   "execution_count": 0,
   "metadata": {
    "application/vnd.databricks.v1+cell": {
     "cellMetadata": {},
     "inputWidgets": {},
     "nuid": "51d4a910-7ee2-403f-b867-7561c756c7e7",
     "showTitle": true,
     "tableResultSettingsMap": {},
     "title": "IMPORT CONNECTION"
    }
   },
   "outputs": [],
   "source": [
    "%run \"./nyc_taxi_conn\""
   ]
  },
  {
   "cell_type": "code",
   "execution_count": 0,
   "metadata": {
    "application/vnd.databricks.v1+cell": {
     "cellMetadata": {},
     "inputWidgets": {},
     "nuid": "39942416-01e6-4274-b6f8-30ee57155077",
     "showTitle": true,
     "tableResultSettingsMap": {},
     "title": "CREATE A DATABASE"
    }
   },
   "outputs": [],
   "source": [
    "%sql\n",
    "CREATE DATABASE gold"
   ]
  },
  {
   "cell_type": "markdown",
   "metadata": {
    "application/vnd.databricks.v1+cell": {
     "cellMetadata": {},
     "inputWidgets": {},
     "nuid": "a0836d46-c606-4e1f-a248-2440287c2bd6",
     "showTitle": false,
     "tableResultSettingsMap": {},
     "title": ""
    }
   },
   "source": [
    "####READ AND WRITE TRIP-TYPE TO GOLD"
   ]
  },
  {
   "cell_type": "code",
   "execution_count": 0,
   "metadata": {
    "application/vnd.databricks.v1+cell": {
     "cellMetadata": {},
     "inputWidgets": {},
     "nuid": "36105994-bff2-47bf-9115-39420747f68e",
     "showTitle": true,
     "tableResultSettingsMap": {},
     "title": "READING TRIP TYPE FROM SILVER"
    }
   },
   "outputs": [],
   "source": [
    "df_type_gold = spark.read.format('parquet') \\\n",
    "    .option('header', True) \\\n",
    "        .option('inferSchema', True) \\\n",
    "            .load(f'{silver}/trip-type')\n",
    "\n",
    "# display(df_type_gold)"
   ]
  },
  {
   "cell_type": "code",
   "execution_count": 0,
   "metadata": {
    "application/vnd.databricks.v1+cell": {
     "cellMetadata": {},
     "inputWidgets": {},
     "nuid": "afc86155-930a-473f-9de9-51b31c7f62e5",
     "showTitle": true,
     "tableResultSettingsMap": {},
     "title": "WRITING TRIP TYPE TO GOLD AS DELTA TABLE"
    }
   },
   "outputs": [],
   "source": [
    "df_type_gold.write.format('delta') \\\n",
    "    .option('mode', 'overwrite') \\\n",
    "        .option('path', f'{gold}/trip-type') \\\n",
    "            .saveAsTable('gold.trip_type')"
   ]
  },
  {
   "cell_type": "markdown",
   "metadata": {
    "application/vnd.databricks.v1+cell": {
     "cellMetadata": {},
     "inputWidgets": {},
     "nuid": "e404f2b2-2c82-4c5f-8ea2-3c0aa8282128",
     "showTitle": false,
     "tableResultSettingsMap": {},
     "title": ""
    }
   },
   "source": [
    "####READ AND WRITE TRIP-ZONE TO GOLD"
   ]
  },
  {
   "cell_type": "code",
   "execution_count": 0,
   "metadata": {
    "application/vnd.databricks.v1+cell": {
     "cellMetadata": {},
     "inputWidgets": {},
     "nuid": "11d08eb5-98ec-4aaa-a88d-a235e62d60a7",
     "showTitle": true,
     "tableResultSettingsMap": {},
     "title": "READ TRIP ZONE FROM SILVER"
    }
   },
   "outputs": [],
   "source": [
    "df_zone_gold = spark.read.format('parquet') \\\n",
    "    .option('header', True) \\\n",
    "        .option('inferSchema', True) \\\n",
    "            .load(f'{silver}/trip-zone')"
   ]
  },
  {
   "cell_type": "code",
   "execution_count": 0,
   "metadata": {
    "application/vnd.databricks.v1+cell": {
     "cellMetadata": {},
     "inputWidgets": {},
     "nuid": "41b907d9-f511-44af-aabc-adddea297688",
     "showTitle": true,
     "tableResultSettingsMap": {},
     "title": "WRITE TRIP ZONE TO GOLD AS DELTA TABLE"
    }
   },
   "outputs": [],
   "source": [
    "df_zone_gold.write.format('delta') \\\n",
    "    .option('moder', 'overwrite') \\\n",
    "        .option('path', f'{gold}/trip-zone') \\\n",
    "            .saveAsTable('gold.trip_zone')\n"
   ]
  },
  {
   "cell_type": "markdown",
   "metadata": {
    "application/vnd.databricks.v1+cell": {
     "cellMetadata": {},
     "inputWidgets": {},
     "nuid": "e90f83fa-b9d2-48cb-adfe-bb7144947f31",
     "showTitle": false,
     "tableResultSettingsMap": {},
     "title": ""
    }
   },
   "source": [
    "####READ AND WRITE TRIP-DATA (2024) TO GOLD"
   ]
  },
  {
   "cell_type": "code",
   "execution_count": 0,
   "metadata": {
    "application/vnd.databricks.v1+cell": {
     "cellMetadata": {},
     "inputWidgets": {},
     "nuid": "c3bc0381-f081-48f2-931b-f2f1de0b6faf",
     "showTitle": true,
     "tableResultSettingsMap": {},
     "title": "READ TRIP DATA (2024) FROM SILVER"
    }
   },
   "outputs": [],
   "source": [
    "df_data_gold = spark.read.format('parquet') \\\n",
    "    .option('header', True) \\\n",
    "        .option('inferSchema', True) \\\n",
    "            .load(f'{silver}/trip-data')"
   ]
  },
  {
   "cell_type": "code",
   "execution_count": 0,
   "metadata": {
    "application/vnd.databricks.v1+cell": {
     "cellMetadata": {},
     "inputWidgets": {},
     "nuid": "385f16f3-9c99-464e-86fd-088c95c2ce01",
     "showTitle": true,
     "tableResultSettingsMap": {},
     "title": "WRITE TRIP DATA (2024) TO GOLD AS DELTA TABLE"
    }
   },
   "outputs": [],
   "source": [
    "df_data_gold.write.format('delta') \\\n",
    "    .option('mode', 'overwrite') \\\n",
    "        .option('path', f'{gold}/trip-data') \\\n",
    "            .saveAsTable('gold.trip_data')"
   ]
  },
  {
   "cell_type": "markdown",
   "metadata": {
    "application/vnd.databricks.v1+cell": {
     "cellMetadata": {},
     "inputWidgets": {},
     "nuid": "a1c3b7d6-6973-4f98-bb1d-a4723ce1019b",
     "showTitle": false,
     "tableResultSettingsMap": {},
     "title": ""
    }
   },
   "source": [
    "#QUERY DELTA TABLE"
   ]
  },
  {
   "cell_type": "code",
   "execution_count": 0,
   "metadata": {
    "application/vnd.databricks.v1+cell": {
     "cellMetadata": {},
     "inputWidgets": {},
     "nuid": "0c4560f5-a03a-492b-ae66-cfb1e1f948d6",
     "showTitle": false,
     "tableResultSettingsMap": {},
     "title": ""
    }
   },
   "outputs": [],
   "source": [
    "%sql\n",
    "SELECT * FROM gold.trip_zone"
   ]
  },
  {
   "cell_type": "markdown",
   "metadata": {
    "application/vnd.databricks.v1+cell": {
     "cellMetadata": {},
     "inputWidgets": {},
     "nuid": "6c49f2c5-d424-4d5b-9e74-4ac6264af0c0",
     "showTitle": false,
     "tableResultSettingsMap": {},
     "title": ""
    }
   },
   "source": [
    "####ALTER TABLE DATA"
   ]
  },
  {
   "cell_type": "code",
   "execution_count": 0,
   "metadata": {
    "application/vnd.databricks.v1+cell": {
     "cellMetadata": {},
     "inputWidgets": {},
     "nuid": "e5192b4b-e74b-4a69-8708-3c3c3e46ef83",
     "showTitle": false,
     "tableResultSettingsMap": {},
     "title": ""
    }
   },
   "outputs": [],
   "source": [
    "%sql\n",
    "UPDATE gold.trip_zone\n",
    "SET Borough = 'EMR'\n",
    "WHERE LocationID = 1"
   ]
  },
  {
   "cell_type": "code",
   "execution_count": 0,
   "metadata": {
    "application/vnd.databricks.v1+cell": {
     "cellMetadata": {},
     "inputWidgets": {},
     "nuid": "e74818a6-9320-46d5-8ec1-686283715adc",
     "showTitle": false,
     "tableResultSettingsMap": {},
     "title": ""
    }
   },
   "outputs": [],
   "source": [
    "%sql\n",
    "SELECT * FROM gold.trip_zone WHERE LocationID = 1"
   ]
  },
  {
   "cell_type": "code",
   "execution_count": 0,
   "metadata": {
    "application/vnd.databricks.v1+cell": {
     "cellMetadata": {},
     "inputWidgets": {},
     "nuid": "4555a9e8-f5d0-4be5-b2f9-9509fee33ae0",
     "showTitle": false,
     "tableResultSettingsMap": {},
     "title": ""
    }
   },
   "outputs": [],
   "source": [
    "%sql\n",
    "DELETE FROM gold.trip_zone\n",
    "WHERE LocationID = 1"
   ]
  },
  {
   "cell_type": "code",
   "execution_count": 0,
   "metadata": {
    "application/vnd.databricks.v1+cell": {
     "cellMetadata": {},
     "inputWidgets": {},
     "nuid": "f5f2c8f5-cb1b-42c6-a961-3b4c73b7c311",
     "showTitle": false,
     "tableResultSettingsMap": {},
     "title": ""
    }
   },
   "outputs": [],
   "source": [
    "%sql\n",
    "SELECT * FROM gold.trip_zone WHERE LocationID = 1"
   ]
  },
  {
   "cell_type": "markdown",
   "metadata": {
    "application/vnd.databricks.v1+cell": {
     "cellMetadata": {},
     "inputWidgets": {},
     "nuid": "635398c9-2607-4ca9-b9bd-4c30e671b850",
     "showTitle": false,
     "tableResultSettingsMap": {},
     "title": ""
    }
   },
   "source": [
    "####VERSIONING"
   ]
  },
  {
   "cell_type": "code",
   "execution_count": 0,
   "metadata": {
    "application/vnd.databricks.v1+cell": {
     "cellMetadata": {},
     "inputWidgets": {},
     "nuid": "25b2aa2d-1e57-4f9e-84d4-2616eb475d92",
     "showTitle": false,
     "tableResultSettingsMap": {},
     "title": ""
    }
   },
   "outputs": [],
   "source": [
    "%sql\n",
    "DESCRIBE HISTORY gold.trip_zone"
   ]
  },
  {
   "cell_type": "markdown",
   "metadata": {
    "application/vnd.databricks.v1+cell": {
     "cellMetadata": {},
     "inputWidgets": {},
     "nuid": "b13187c9-b566-4065-8835-048e1a67f5c5",
     "showTitle": false,
     "tableResultSettingsMap": {},
     "title": ""
    }
   },
   "source": [
    "####TIME TRAVEL"
   ]
  },
  {
   "cell_type": "code",
   "execution_count": 0,
   "metadata": {
    "application/vnd.databricks.v1+cell": {
     "cellMetadata": {},
     "inputWidgets": {},
     "nuid": "8068f54a-5b67-42fc-a006-522e747ea9f5",
     "showTitle": false,
     "tableResultSettingsMap": {},
     "title": ""
    }
   },
   "outputs": [],
   "source": [
    "%sql\n",
    "RESTORE gold.trip_zone TO VERSION AS OF 0"
   ]
  },
  {
   "cell_type": "code",
   "execution_count": 0,
   "metadata": {
    "application/vnd.databricks.v1+cell": {
     "cellMetadata": {},
     "inputWidgets": {},
     "nuid": "e426193f-1b79-4a7b-8366-406098146504",
     "showTitle": false,
     "tableResultSettingsMap": {},
     "title": ""
    }
   },
   "outputs": [],
   "source": [
    "%sql\n",
    "SELECT * FROM gold.trip_zone"
   ]
  }
 ],
 "metadata": {
  "application/vnd.databricks.v1+notebook": {
   "computePreferences": null,
   "dashboards": [],
   "environmentMetadata": null,
   "inputWidgetPreferences": null,
   "language": "python",
   "notebookMetadata": {
    "pythonIndentUnit": 4
   },
   "notebookName": "nyc_gold_nb",
   "widgets": {}
  },
  "language_info": {
   "name": "python"
  }
 },
 "nbformat": 4,
 "nbformat_minor": 0
}
