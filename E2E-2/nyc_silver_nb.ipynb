{
 "cells": [
  {
   "cell_type": "code",
   "execution_count": 0,
   "metadata": {
    "application/vnd.databricks.v1+cell": {
     "cellMetadata": {},
     "inputWidgets": {},
     "nuid": "e47c0880-011f-432a-832b-393b4bb0d4b3",
     "showTitle": true,
     "tableResultSettingsMap": {},
     "title": "IMPORT AND RUN CONNECTION NB"
    }
   },
   "outputs": [],
   "source": [
    "%run \"./nyc_taxi_conn\""
   ]
  },
  {
   "cell_type": "markdown",
   "metadata": {
    "application/vnd.databricks.v1+cell": {
     "cellMetadata": {},
     "inputWidgets": {},
     "nuid": "8fb94896-8854-4b99-9b27-8c5cc86505a0",
     "showTitle": false,
     "tableResultSettingsMap": {},
     "title": ""
    }
   },
   "source": [
    "##TRIP-TYPE DATA"
   ]
  },
  {
   "cell_type": "code",
   "execution_count": 0,
   "metadata": {
    "application/vnd.databricks.v1+cell": {
     "cellMetadata": {},
     "inputWidgets": {},
     "nuid": "70895808-521a-45d6-8b54-03095f7229d4",
     "showTitle": true,
     "tableResultSettingsMap": {},
     "title": "DATA READING FROM BRONZE DATA-TYPE"
    }
   },
   "outputs": [],
   "source": [
    "df_trip_type = spark.read.format('csv') \\\n",
    "    .option('header', True) \\\n",
    "        .option('inferSchema', True) \\\n",
    "            .load(f'{bronze}/trip-type')\n",
    "\n",
    "# display(df_trip_type)"
   ]
  },
  {
   "cell_type": "code",
   "execution_count": 0,
   "metadata": {
    "application/vnd.databricks.v1+cell": {
     "cellMetadata": {},
     "inputWidgets": {},
     "nuid": "3bdb8770-4116-46f8-ba4e-8da68ad81db1",
     "showTitle": true,
     "tableResultSettingsMap": {},
     "title": "TRIP-TYPE TRANSFORMATION"
    }
   },
   "outputs": [],
   "source": [
    "df_trip_type = df_trip_type.withColumnRenamed('description', 'trip-des')\n",
    "# df_trip_type.display()"
   ]
  },
  {
   "cell_type": "code",
   "execution_count": 0,
   "metadata": {
    "application/vnd.databricks.v1+cell": {
     "cellMetadata": {},
     "inputWidgets": {},
     "nuid": "80de14ff-94ec-4082-ba01-08b8036f321a",
     "showTitle": false,
     "tableResultSettingsMap": {},
     "title": ""
    }
   },
   "outputs": [],
   "source": [
    "df_trip_type.write.format('parquet') \\\n",
    "    .option('path', f'{silver}/trip-type') \\\n",
    "        .option('mode', 'overwrite') \\\n",
    "            .save()"
   ]
  },
  {
   "cell_type": "markdown",
   "metadata": {
    "application/vnd.databricks.v1+cell": {
     "cellMetadata": {},
     "inputWidgets": {},
     "nuid": "f045ddff-cc5b-495c-ac73-88a7fa5150f9",
     "showTitle": false,
     "tableResultSettingsMap": {},
     "title": ""
    }
   },
   "source": [
    "##TRIP-ZONE DATA"
   ]
  },
  {
   "cell_type": "code",
   "execution_count": 0,
   "metadata": {
    "application/vnd.databricks.v1+cell": {
     "cellMetadata": {},
     "inputWidgets": {},
     "nuid": "bc3467f3-ab5e-4971-8b75-367c63e07d6f",
     "showTitle": true,
     "tableResultSettingsMap": {},
     "title": "READ TRIP ZONE DATA"
    }
   },
   "outputs": [],
   "source": [
    "df_trip_zone = spark.read.format('csv') \\\n",
    "    .option('header', True) \\\n",
    "        .option('inferSchema', True) \\\n",
    "            .load(f'{bronze}/trip-zone')\n",
    "\n",
    "# df_trip_zone.display()"
   ]
  },
  {
   "cell_type": "code",
   "execution_count": 0,
   "metadata": {
    "application/vnd.databricks.v1+cell": {
     "cellMetadata": {},
     "inputWidgets": {},
     "nuid": "15ed632f-79fa-4efc-a9bf-872c26aa5298",
     "showTitle": true,
     "tableResultSettingsMap": {},
     "title": "TRIP ZONE TRANSFORMATIONS"
    }
   },
   "outputs": [],
   "source": [
    "df_trip_zone = df_trip_zone.withColumn('Zone1', split(col('Zone'), '/')[0]) \\\n",
    "    .withColumn('Zone2', split(col('Zone'), '/')[1])\n",
    "\n",
    "# df_trip_zone.display()"
   ]
  },
  {
   "cell_type": "code",
   "execution_count": 0,
   "metadata": {
    "application/vnd.databricks.v1+cell": {
     "cellMetadata": {},
     "inputWidgets": {},
     "nuid": "c8ea267f-5c89-4c03-913c-0d8cc906aa4d",
     "showTitle": true,
     "tableResultSettingsMap": {},
     "title": "TRIP ZONE WRITE TO SILVER"
    }
   },
   "outputs": [],
   "source": [
    "df_trip_zone.write.format('parquet') \\\n",
    "    .option('path', f'{silver}/trip-zone') \\\n",
    "        .option('mode', 'overwrite') \\\n",
    "            .save()"
   ]
  },
  {
   "cell_type": "markdown",
   "metadata": {
    "application/vnd.databricks.v1+cell": {
     "cellMetadata": {},
     "inputWidgets": {},
     "nuid": "0f78e4f8-2a33-4938-9a6b-9485b6a10578",
     "showTitle": false,
     "tableResultSettingsMap": {},
     "title": ""
    }
   },
   "source": [
    "##TRIP DATA (2024)"
   ]
  },
  {
   "cell_type": "code",
   "execution_count": 0,
   "metadata": {
    "application/vnd.databricks.v1+cell": {
     "cellMetadata": {},
     "inputWidgets": {},
     "nuid": "dae6b6bc-b0d6-433d-a1db-0e1feea86617",
     "showTitle": true,
     "tableResultSettingsMap": {},
     "title": "CREATE TRIP-DATA SCHEMA"
    }
   },
   "outputs": [],
   "source": [
    "myschema = '''\n",
    "\tVendorID BIGINT,\n",
    "\tlpep_pickup_datetime TIMESTAMP,\n",
    "\tlpep_dropoff_datetime TIMESTAMP,\n",
    "\tstore_and_fwd_flag STRING,\n",
    "\tRatecodeID BIGINT,\n",
    "\tPULocationID BIGINT,\n",
    "\tDOLocationID BIGINT,\n",
    "\tpassenger_count BIGINT,\n",
    "\ttrip_distance DOUBLE,\n",
    "\tfare_amount DOUBLE,\n",
    "\textra DOUBLE,\n",
    "\tmta_tax DOUBLE,\n",
    "\ttrip_amount DOUBLE,\n",
    "\ttolls_amount DOUBLE,\n",
    "\tehail_fee DOUBLE,\n",
    "\timprovement_surcharge DOUBLE,\n",
    "\ttotal_amount DOUBLE,\n",
    "\tpayment_type BIGINT,\n",
    "\ttrip_type BIGINT,\n",
    "\tcongestion_surcharge DOUBLE\n",
    "'''"
   ]
  },
  {
   "cell_type": "code",
   "execution_count": 0,
   "metadata": {
    "application/vnd.databricks.v1+cell": {
     "cellMetadata": {},
     "inputWidgets": {},
     "nuid": "501cff08-5eef-4aa7-a103-6d7e24c2d9b1",
     "showTitle": true,
     "tableResultSettingsMap": {},
     "title": "READ TRIP-DATA (2024)"
    }
   },
   "outputs": [],
   "source": [
    "df_trip_data = spark.read.format('parquet') \\\n",
    "    .option('recursiveFileLookup', True) \\\n",
    "        .option('header', True) \\\n",
    "            .schema(myschema) \\\n",
    "                .load(f'{bronze}/trip-data')\n",
    "# df_trip_data.display()"
   ]
  },
  {
   "cell_type": "code",
   "execution_count": 0,
   "metadata": {
    "application/vnd.databricks.v1+cell": {
     "cellMetadata": {},
     "inputWidgets": {},
     "nuid": "fb46b891-23ac-4803-82c6-3eec76a0236a",
     "showTitle": true,
     "tableResultSettingsMap": {},
     "title": "TRIP DATA TRANSFORMATION"
    }
   },
   "outputs": [],
   "source": [
    "df_trip_data = df_trip_data.withColumn('to_date', to_date(col('lpep_pickup_datetime'))) \\\n",
    "    .withColumn('year', year(col('lpep_pickup_datetime'))) \\\n",
    "        .withColumn('month', month(col('lpep_pickup_datetime')))\n",
    "    \n",
    "# df_trip_data.display()"
   ]
  },
  {
   "cell_type": "code",
   "execution_count": 0,
   "metadata": {
    "application/vnd.databricks.v1+cell": {
     "cellMetadata": {},
     "inputWidgets": {},
     "nuid": "4fb70cdd-41fe-42b1-9d75-2a63ef8f240d",
     "showTitle": true,
     "tableResultSettingsMap": {},
     "title": "WRITING TRIP-DATA 2024 TO SILVER"
    }
   },
   "outputs": [],
   "source": [
    "df_trip_data.write.format('parquet') \\\n",
    "    .option('path', f'{silver}/trip-data') \\\n",
    "        .option('mode', 'overwrite') \\\n",
    "            .save()"
   ]
  }
 ],
 "metadata": {
  "application/vnd.databricks.v1+notebook": {
   "computePreferences": null,
   "dashboards": [],
   "environmentMetadata": null,
   "inputWidgetPreferences": null,
   "language": "python",
   "notebookMetadata": {},
   "notebookName": "nyc_silver_nb",
   "widgets": {}
  },
  "language_info": {
   "name": "python"
  }
 },
 "nbformat": 4,
 "nbformat_minor": 0
}